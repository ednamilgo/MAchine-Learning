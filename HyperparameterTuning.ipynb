{
 "cells": [
  {
   "cell_type": "markdown",
   "id": "70f207b7",
   "metadata": {},
   "source": [
    "# Hyperparameter Tuning with Pipelines for House Prices"
   ]
  },
  {
   "cell_type": "markdown",
   "id": "c9cc26b6",
   "metadata": {},
   "source": [
    "## Import the basic libraries"
   ]
  },
  {
   "cell_type": "code",
   "execution_count": 1,
   "id": "6cfd3cec",
   "metadata": {},
   "outputs": [],
   "source": [
    "import numpy as np\n",
    "import pandas as pd\n",
    "import matplotlib.pyplot as plt\n",
    "import seaborn as sns\n",
    "import time"
   ]
  },
  {
   "cell_type": "markdown",
   "id": "f5f0202f",
   "metadata": {},
   "source": [
    "\n",
    "\n",
    "## Import the sklearn libraries that will be used"
   ]
  },
  {
   "cell_type": "code",
   "execution_count": 2,
   "id": "2c365450",
   "metadata": {},
   "outputs": [],
   "source": [
    "from sklearn.preprocessing import StandardScaler\n",
    "from sklearn.model_selection import train_test_split\n",
    "\n",
    "from sklearn.model_selection import GridSearchCV,RandomizedSearchCV\n",
    "from sklearn.experimental import enable_halving_search_cv\n",
    "from sklearn.model_selection import HalvingGridSearchCV\n",
    "from sklearn.model_selection import HalvingRandomSearchCV\n",
    "from sklearn.pipeline import Pipeline"
   ]
  },
  {
   "cell_type": "markdown",
   "id": "00399b82-9b83-41a0-9d20-cc32421516b3",
   "metadata": {},
   "source": [
    "## Import the models"
   ]
  },
  {
   "cell_type": "code",
   "execution_count": 3,
   "id": "027ec612-5140-4cc7-b8e0-665817379978",
   "metadata": {},
   "outputs": [],
   "source": [
    "from sklearn.ensemble import RandomForestRegressor\n"
   ]
  },
  {
   "cell_type": "markdown",
   "id": "45406a57-d3b0-46c4-a2e5-f95e5c6fb852",
   "metadata": {},
   "source": [
    "## Import the metrics"
   ]
  },
  {
   "cell_type": "code",
   "execution_count": 4,
   "id": "fc5f70cc",
   "metadata": {},
   "outputs": [],
   "source": [
    "from sklearn.metrics import accuracy_score, mean_squared_error, r2_score, mean_absolute_error"
   ]
  },
  {
   "cell_type": "markdown",
   "id": "da0f7d13",
   "metadata": {},
   "source": [
    "# Load the dataset"
   ]
  },
  {
   "cell_type": "code",
   "execution_count": 5,
   "id": "d9624dc0",
   "metadata": {},
   "outputs": [],
   "source": [
    "housesales_train = pd.read_csv(\"./Datasets/House_sales_train.csv\")\n",
    "# housesales_test = pd.read_csv(\"./Datasets/House_sales_test.csv\")"
   ]
  },
  {
   "cell_type": "code",
   "execution_count": 6,
   "id": "c6b883b2-3d44-48e2-a523-d6394804c045",
   "metadata": {},
   "outputs": [],
   "source": [
    "# housesales_test.shape"
   ]
  },
  {
   "cell_type": "code",
   "execution_count": 7,
   "id": "c6c48475-bdbd-4917-ad55-56fad693db87",
   "metadata": {},
   "outputs": [],
   "source": [
    "#Combine the datasets\n",
    "# Concatenate train and test datasets vertically\n",
    "# HouseSales_combined = pd.concat([housesales_train, housesales_test], ignore_index=True)\n",
    "HouseSales_combined = housesales_train.copy()"
   ]
  },
  {
   "cell_type": "code",
   "execution_count": 8,
   "id": "1188d12c-fa13-49a4-9aaf-d8b033ce0622",
   "metadata": {},
   "outputs": [],
   "source": [
    "# HouseSales_combined.info()"
   ]
  },
  {
   "cell_type": "code",
   "execution_count": 9,
   "id": "d8bbebdc-1bb3-4ce2-a088-4929ce45d3ef",
   "metadata": {},
   "outputs": [],
   "source": [
    "# HouseSales_combined.tail()"
   ]
  },
  {
   "cell_type": "code",
   "execution_count": 10,
   "id": "d5f25571-3b28-489a-91f9-6800512c9beb",
   "metadata": {},
   "outputs": [],
   "source": [
    "#drop the ID\n",
    "HouseSales_combined = HouseSales_combined.drop(columns=['Id'])"
   ]
  },
  {
   "cell_type": "code",
   "execution_count": 11,
   "id": "8310586d-489b-428a-ab22-e518ea3fad8f",
   "metadata": {},
   "outputs": [],
   "source": [
    "# Get the number of unique values for each feature\n",
    "unique_vals =  HouseSales_combined.nunique().sort_values(ascending=False)\n",
    "\n",
    "# unique_vals = pd.DataFrame(unique_vals)\n",
    "# pd.set_option('display.max_rows', None)  # Display all rows\n",
    "# print(unique_vals)"
   ]
  },
  {
   "cell_type": "code",
   "execution_count": 12,
   "id": "384c52b7-1941-46b2-bdc9-2b6cc5f07c09",
   "metadata": {},
   "outputs": [],
   "source": [
    "# Get the data types of each column\n",
    "data_types = HouseSales_combined.dtypes\n",
    "\n",
    "# Select only the numerical columns\n",
    "numerical_features = HouseSales_combined.select_dtypes(include=['int64', 'float64'])\n",
    "# numerical_features.info()"
   ]
  },
  {
   "cell_type": "code",
   "execution_count": 13,
   "id": "bc3d7c29-0476-4040-a630-39c4f1e0197f",
   "metadata": {},
   "outputs": [
    {
     "data": {
      "text/plain": [
       "Index(['MSSubClass', 'LotFrontage', 'LotArea', 'OverallQual', 'OverallCond',\n",
       "       'YearBuilt', 'YearRemodAdd', 'MasVnrArea', 'BsmtFinSF1', 'BsmtFinSF2',\n",
       "       'BsmtUnfSF', 'TotalBsmtSF', '1stFlrSF', '2ndFlrSF', 'LowQualFinSF',\n",
       "       'GrLivArea', 'BsmtFullBath', 'BsmtHalfBath', 'FullBath', 'HalfBath',\n",
       "       'BedroomAbvGr', 'KitchenAbvGr', 'TotRmsAbvGrd', 'Fireplaces',\n",
       "       'GarageYrBlt', 'GarageCars', 'GarageArea', 'WoodDeckSF', 'OpenPorchSF',\n",
       "       'EnclosedPorch', '3SsnPorch', 'ScreenPorch', 'PoolArea', 'MiscVal',\n",
       "       'MoSold', 'YrSold', 'SalePrice'],\n",
       "      dtype='object')"
      ]
     },
     "execution_count": 13,
     "metadata": {},
     "output_type": "execute_result"
    }
   ],
   "source": [
    "numerical_features.columns"
   ]
  },
  {
   "cell_type": "code",
   "execution_count": 14,
   "id": "80b1ab98-4726-48bb-9595-1cff181c9a1f",
   "metadata": {},
   "outputs": [],
   "source": [
    "# Replace all NaN values with a specified value (e.g., 0)\n",
    "updatednumerical_features = numerical_features.fillna(0)"
   ]
  },
  {
   "cell_type": "code",
   "execution_count": 15,
   "id": "949bccef-e2dc-44aa-94d9-438e9e772fd2",
   "metadata": {},
   "outputs": [],
   "source": [
    "# updatednumerical_features['SalePrice'].info()"
   ]
  },
  {
   "cell_type": "code",
   "execution_count": 16,
   "id": "fb7bdbae-0673-4e95-8d24-10db39734cac",
   "metadata": {},
   "outputs": [],
   "source": [
    "non_numeric_features = housesales_train.select_dtypes(include=['object'])\n",
    "non_numeric_features = non_numeric_features.fillna('nil')\n",
    "# non_numeric_features.info()"
   ]
  },
  {
   "cell_type": "markdown",
   "id": "f62e7908",
   "metadata": {},
   "source": [
    "## Data Engineering"
   ]
  },
  {
   "cell_type": "markdown",
   "id": "55c30be0",
   "metadata": {},
   "source": [
    "## Feature Encoding : Categorical, ordinal\n"
   ]
  },
  {
   "cell_type": "code",
   "execution_count": 17,
   "id": "6f9a6f40",
   "metadata": {},
   "outputs": [],
   "source": [
    "from sklearn.preprocessing import OneHotEncoder\n",
    "from sklearn.compose import ColumnTransformer\n",
    "from sklearn.impute import SimpleImputer"
   ]
  },
  {
   "cell_type": "code",
   "execution_count": 18,
   "id": "2d446c74",
   "metadata": {},
   "outputs": [],
   "source": [
    "ohe = OneHotEncoder(handle_unknown='ignore', sparse_output= False).set_output(transform='pandas')\n",
    "ohetransform = ohe.fit_transform(non_numeric_features)"
   ]
  },
  {
   "cell_type": "code",
   "execution_count": 19,
   "id": "1d0afb1b",
   "metadata": {},
   "outputs": [
    {
     "data": {
      "text/plain": [
       "(1460, 305)"
      ]
     },
     "execution_count": 19,
     "metadata": {},
     "output_type": "execute_result"
    }
   ],
   "source": [
    "# Combine the numeric and non numeric datasets\n",
    "HouseSalesEncoded = pd.concat([updatednumerical_features, ohetransform], axis=1)\n",
    "HouseSalesEncoded.shape"
   ]
  },
  {
   "cell_type": "markdown",
   "id": "23e1d791",
   "metadata": {},
   "source": [
    "## Define the inputs and outputs"
   ]
  },
  {
   "cell_type": "code",
   "execution_count": 20,
   "id": "f8d2bc10",
   "metadata": {},
   "outputs": [],
   "source": [
    "X,y = HouseSalesEncoded.loc[:, ~HouseSalesEncoded.columns.isin(['SalePrice'])],HouseSalesEncoded['SalePrice']"
   ]
  },
  {
   "cell_type": "code",
   "execution_count": 21,
   "id": "9c7bf4b9-9b63-4cb1-abfa-9c70bd62d849",
   "metadata": {},
   "outputs": [],
   "source": [
    "X_train, X_test, y_train, y_test = train_test_split(X, y,test_size=0.2,random_state=42)"
   ]
  },
  {
   "cell_type": "code",
   "execution_count": null,
   "id": "8c0322d9-08f2-40bf-a122-57f9da7ddc98",
   "metadata": {},
   "outputs": [],
   "source": []
  },
  {
   "cell_type": "markdown",
   "id": "cf85757e",
   "metadata": {},
   "source": [
    "# Hyperparameter tuning  with RandomSearchCV and GridSearchCV"
   ]
  },
  {
   "cell_type": "code",
   "execution_count": 22,
   "id": "63f00902-97df-40fe-bb18-2a3dd470ce5e",
   "metadata": {},
   "outputs": [],
   "source": [
    "# Define a pipeline\n",
    "pipeline = Pipeline([\n",
    "    ('scaler', StandardScaler()),\n",
    "    ('rf', RandomForestRegressor())\n",
    "])"
   ]
  },
  {
   "cell_type": "code",
   "execution_count": 23,
   "id": "5c173441-57a9-4498-903a-3187f4bc97b7",
   "metadata": {},
   "outputs": [],
   "source": [
    "# Define a grid of hyperparameters to search\n",
    "grid_param = {\n",
    "    'rf__n_estimators': [50, 100, 200],\n",
    "    'rf__max_depth': [5, 10, 20],\n",
    "    'rf__min_samples_split': [2, 5, 10]\n",
    "}"
   ]
  },
  {
   "cell_type": "code",
   "execution_count": 24,
   "id": "4cc9f5d0-fe50-4ac4-9b02-26e1adfa620a",
   "metadata": {},
   "outputs": [],
   "source": [
    "cv=3"
   ]
  },
  {
   "cell_type": "code",
   "execution_count": 25,
   "id": "7040aa19-77a2-42e1-9c05-da8e26f83436",
   "metadata": {},
   "outputs": [],
   "source": [
    "def Grid_search_CV_model(pipeline, grid_param, cv, X_train, y_train):\n",
    "    grid_search = RandomizedSearchCV(pipeline, \n",
    "                                   param_distributions=grid_param, \n",
    "                                   cv=cv, \n",
    "                                   scoring='neg_mean_squared_error', # This will get the score\n",
    "                                   n_jobs=-1,\n",
    "                                  verbose=10 \n",
    "                                  )\n",
    "    \n",
    "    # Fit the GridSearchCV\n",
    "    grid_search.fit(X_train, y_train)\n",
    "    best_model = grid_search.best_estimator_\n",
    "    search_results = grid_search.cv_results_\n",
    "    return best_model,search_results"
   ]
  },
  {
   "cell_type": "code",
   "execution_count": 26,
   "id": "42a6bade-0697-4bbf-906e-29578b774a83",
   "metadata": {},
   "outputs": [
    {
     "name": "stdout",
     "output_type": "stream",
     "text": [
      "Fitting 3 folds for each of 10 candidates, totalling 30 fits\n"
     ]
    }
   ],
   "source": [
    "price_grid_estimator, price_grid_results = Grid_search_CV_model(pipeline, grid_param, cv, X_train, y_train)"
   ]
  },
  {
   "cell_type": "code",
   "execution_count": null,
   "id": "dc4eac71-a351-4724-afbc-f23da266deba",
   "metadata": {},
   "outputs": [],
   "source": []
  },
  {
   "cell_type": "code",
   "execution_count": 27,
   "id": "6ba94cfd-3458-459f-ad15-df0b2336d008",
   "metadata": {},
   "outputs": [
    {
     "name": "stdout",
     "output_type": "stream",
     "text": [
      "Best Parameters: ('rf', RandomForestRegressor(max_depth=10))\n"
     ]
    }
   ],
   "source": [
    "# Print the best parameters\n",
    "print(\"Best Parameters:\", price_grid_estimator.steps[1])"
   ]
  },
  {
   "cell_type": "code",
   "execution_count": 28,
   "id": "069e76dc",
   "metadata": {
    "scrolled": true
   },
   "outputs": [],
   "source": [
    "\n",
    "# Make predictions\n",
    "y_pred = price_grid_estimator.predict(X_test)"
   ]
  },
  {
   "cell_type": "code",
   "execution_count": null,
   "id": "05f23713-7137-45df-ba67-ecf16b21db3a",
   "metadata": {},
   "outputs": [],
   "source": []
  },
  {
   "cell_type": "code",
   "execution_count": null,
   "id": "bf8cad06-d0a1-44d8-908c-1b92e3871965",
   "metadata": {},
   "outputs": [],
   "source": []
  },
  {
   "cell_type": "code",
   "execution_count": null,
   "id": "ece17ac9-c6f5-45b7-89a2-bdd431bf69d5",
   "metadata": {},
   "outputs": [],
   "source": []
  }
 ],
 "metadata": {
  "kernelspec": {
   "display_name": "Python 3 (ipykernel)",
   "language": "python",
   "name": "python3"
  },
  "language_info": {
   "codemirror_mode": {
    "name": "ipython",
    "version": 3
   },
   "file_extension": ".py",
   "mimetype": "text/x-python",
   "name": "python",
   "nbconvert_exporter": "python",
   "pygments_lexer": "ipython3",
   "version": "3.9.18"
  }
 },
 "nbformat": 4,
 "nbformat_minor": 5
}
